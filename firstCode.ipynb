{
 "cells": [
  {
   "cell_type": "code",
   "execution_count": 2,
   "id": "440ca34d-9935-4ed2-95d8-582c05574419",
   "metadata": {},
   "outputs": [
    {
     "name": "stdout",
     "output_type": "stream",
     "text": [
      "Hello\n"
     ]
    }
   ],
   "source": [
    "print(\"Hello\");"
   ]
  },
  {
   "cell_type": "markdown",
   "id": "256728db-580b-40ec-8fa1-5d2c054494a3",
   "metadata": {},
   "source": [
    "# 1.This is topic one"
   ]
  },
  {
   "cell_type": "markdown",
   "id": "27ff124b-b121-4e23-ad78-5100a59d51ae",
   "metadata": {},
   "source": [
    "<p style = \"color:red;\">This is Text</p>"
   ]
  },
  {
   "cell_type": "code",
   "execution_count": 6,
   "id": "50cc50f3-c173-46c4-91c2-15830aa8af72",
   "metadata": {},
   "outputs": [],
   "source": [
    "import pandas as pd ;"
   ]
  },
  {
   "cell_type": "code",
   "execution_count": 22,
   "id": "cc47299f-5034-4bfa-ae9c-13625da46387",
   "metadata": {},
   "outputs": [],
   "source": [
    "df = pd.read_csv('Advanced Soybean new.csv');"
   ]
  },
  {
   "cell_type": "code",
   "execution_count": 24,
   "id": "b2e83a14-488b-4fdc-a6c4-08991eb0ea0a",
   "metadata": {},
   "outputs": [
    {
     "name": "stdout",
     "output_type": "stream",
     "text": [
      "  Parameters Random  Number of Pods (NP)  Biological Weight (BW)  Sugars (Su)  \\\n",
      "0     C1S1G5     R1                130.3                   111.0       433.00   \n",
      "1     C2S3G4     R1                132.0                    80.0       334.00   \n",
      "2     C2S1G6     R1                150.0                    83.0         0.49   \n",
      "3     C1S1G1     R1                140.8                    66.0       163.00   \n",
      "4     C1S2G6     R2                175.6                    73.0       795.00   \n",
      "\n",
      "   Relative Water Content in Leaves (RWCL)  ChlorophyllA663  Chlorophyllb649  \\\n",
      "0                                    732.0              1.4              3.1   \n",
      "1                                    674.0              7.1              2.2   \n",
      "2                                    677.0              1.8              1.3   \n",
      "3                                    745.0              1.1              3.0   \n",
      "4                                    725.0              7.5              2.1   \n",
      "\n",
      "   Protein Percentage (PPE)  Weight of 300 Seeds (W3S)  Leaf Area Index (LAI)  \\\n",
      "0                      33.2                       33.6                   0.08   \n",
      "1                      38.5                       34.4                   0.09   \n",
      "2                      33.6                       35.2                   0.07   \n",
      "3                      33.5                       52.3                   0.09   \n",
      "4                      39.6                       31.2                   0.10   \n",
      "\n",
      "   Number of Seeds per Pod (NSP) Protein Content (PCO)  \\\n",
      "0                           1.86                  0.82   \n",
      "1                           1.87                  0.13   \n",
      "2                           2.04                  0.15   \n",
      "3                           2.20                  0.14   \n",
      "4                           1.88                   0.6   \n",
      "\n",
      "  Seed Yield per Unit Area (SYUA) Plant Height (PH)  \n",
      "0                   133943600,00%          R$ 50,50  \n",
      "1                    12613100,00%          R$ 44,50  \n",
      "2                    88626100,00%          R$ 52,20  \n",
      "3                   157577800,00%          R$ 50,50  \n",
      "4                    72960400,00%          R$ 49,20  \n"
     ]
    }
   ],
   "source": [
    "print(df.head());"
   ]
  },
  {
   "cell_type": "code",
   "execution_count": null,
   "id": "f8d6fcc2-5d1c-4bb3-b21e-b895b52e64fc",
   "metadata": {},
   "outputs": [],
   "source": []
  }
 ],
 "metadata": {
  "kernelspec": {
   "display_name": "Python [conda env:base] *",
   "language": "python",
   "name": "conda-base-py"
  },
  "language_info": {
   "codemirror_mode": {
    "name": "ipython",
    "version": 3
   },
   "file_extension": ".py",
   "mimetype": "text/x-python",
   "name": "python",
   "nbconvert_exporter": "python",
   "pygments_lexer": "ipython3",
   "version": "3.12.7"
  }
 },
 "nbformat": 4,
 "nbformat_minor": 5
}
